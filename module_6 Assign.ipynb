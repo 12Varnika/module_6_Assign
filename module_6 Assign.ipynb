{
 "cells": [
  {
   "cell_type": "code",
   "execution_count": null,
   "id": "216aef96-f879-4c51-af7a-5c347265c15f",
   "metadata": {},
   "outputs": [],
   "source": [
    "#QUES.1  Explain the purpose and advantages of NumPy in scientific computing and data analysis. How does it\n",
    "        #enhance Python's capabilities for numerical operations?\n",
    "#ANS    Numpy numerical python is a most useful python library which have various inbuilt functions to perform and solve\n",
    "        #problem.\n",
    "#Purpose of Numpy:\n",
    "#It provides other libraries such as Pandas, SciPy, TensorFlow, and scikit-learn, are built on top of NumPy.\n",
    "#It provides fast and efficiency way to operate on large matrix.\n",
    "#Multi-dimensional array support: NumPy introduces the concept of the n-dimensional array object, known as ndarray, which can\n",
    "                                #store large datasets in a structured format. This makes it easy to perform vectorized operations\n",
    "                                #on entire arrays without needing loops.\n",
    "#Advantage:\n",
    "#Fast array operation\n",
    "#memory effeciency\n",
    "#supports multi dimentional\n",
    "#broadcasting\n"
   ]
  },
  {
   "cell_type": "code",
   "execution_count": null,
   "id": "c4252d9a-6a6f-4360-898c-4f77defccabe",
   "metadata": {},
   "outputs": [],
   "source": [
    "#QUES2. Compare and contrast np.mean() and np.average() functions in NumPy. When would you use one over the\n",
    "        #other?\n",
    "#ANS.   Both the functions performs same functioning but there is some difference.\n",
    "#np.mean()\n",
    "#Computes the arithmetic mean (unweighted).\n",
    "#Generally faster (less overhead).\n",
    "#Returns a single value .\n",
    "#Less overhead for high-speed calculations.\n",
    "\n",
    "#np.average()\n",
    "#Computes both simple and weighted averages.\n",
    "#Can apply weights to the elements of the array.\n",
    "#Slightly slower due to optional weighting handling.\n",
    "#More precise if certain elements of the dataset carry different importance.\n",
    "\n",
    "#when to use np.mean()\n",
    "#When you need to compute a simple average and do not need to apply weights.\n",
    "#It is slightly faster and simpler when no weighting is required.\n",
    "\n",
    "#np.average()\n",
    "#When you need to calculate a weighted average, which allows certain elements in the array to have more influence on the final result.\n",
    "#When you need both the average and the sum of the weights (with returned=True)."
   ]
  },
  {
   "cell_type": "code",
   "execution_count": null,
   "id": "017f5a2b-f90b-4a3c-b48a-8911f48d3384",
   "metadata": {},
   "outputs": [],
   "source": [
    "#QUES.3 Describe the methods for reversing a NumPy array along different axes. Provide examples for 1D and 2D\n",
    "        #arrays."
   ]
  },
  {
   "cell_type": "code",
   "execution_count": 2,
   "id": "c821f231-7516-48ce-b9a9-ad2fc85c58c7",
   "metadata": {},
   "outputs": [
    {
     "name": "stdout",
     "output_type": "stream",
     "text": [
      "[5, 4, 3, 2]\n"
     ]
    }
   ],
   "source": [
    "#First method is slicing\n",
    "import numpy as np\n",
    "z=([2,3,4,5])\n",
    "l=z[::-1]\n",
    "print(l)"
   ]
  },
  {
   "cell_type": "code",
   "execution_count": 3,
   "id": "a26424a0-7ee3-41de-a97e-21f93d7d713f",
   "metadata": {},
   "outputs": [
    {
     "name": "stdout",
     "output_type": "stream",
     "text": [
      "[5 4 3 2]\n"
     ]
    }
   ],
   "source": [
    "#second method is np.flip\n",
    "import numpy as np\n",
    "z=([2,3,4,5])\n",
    "l=np.flip(z)\n",
    "print(l)"
   ]
  },
  {
   "cell_type": "code",
   "execution_count": 7,
   "id": "33118aaf-7486-4fd3-9358-fc078b69c903",
   "metadata": {},
   "outputs": [
    {
     "name": "stdout",
     "output_type": "stream",
     "text": [
      "[[100 200 300]\n",
      " [ 50  40  30]\n",
      " [  1   2   3]]\n"
     ]
    }
   ],
   "source": [
    "#2-D array\n",
    "arr=np.array([[1,2,3], [50,40,30], [100,200,300]])\n",
    "arr_2d=arr[::-1]\n",
    "print(arr_2d)"
   ]
  },
  {
   "cell_type": "code",
   "execution_count": 8,
   "id": "c44cc7be-649c-489a-aa15-dfa608132863",
   "metadata": {},
   "outputs": [
    {
     "name": "stdout",
     "output_type": "stream",
     "text": [
      "[[  3   2   1]\n",
      " [ 30  40  50]\n",
      " [300 200 100]]\n"
     ]
    }
   ],
   "source": [
    "arr=np.array([[1,2,3], [50,40,30], [100,200,300]])\n",
    "arr_2d=arr[:, ::-1]\n",
    "print(arr_2d)"
   ]
  },
  {
   "cell_type": "code",
   "execution_count": 11,
   "id": "8f38acee-a6a1-43c3-ac17-3694caf89746",
   "metadata": {},
   "outputs": [
    {
     "name": "stdout",
     "output_type": "stream",
     "text": [
      "[[100 200 300]\n",
      " [ 50  40  30]\n",
      " [  1   2   3]]\n"
     ]
    }
   ],
   "source": [
    "#by np.flip()\n",
    "arr=np.array([[1,2,3], [50,40,30], [100,200,300]])\n",
    "arr_2d=np.flip(arr, axis=0)\n",
    "print(arr_2d)"
   ]
  },
  {
   "cell_type": "code",
   "execution_count": null,
   "id": "0a449a2f-64fa-4ed0-b276-47244341bb4f",
   "metadata": {},
   "outputs": [],
   "source": [
    "#QUES.4  How can you determine the data type of elements in a NumPy array? Discuss the importance of data types\n",
    "        #in memory management and performance.\n",
    "#ANS.  It includes int, float, complex dtype known as data type."
   ]
  },
  {
   "cell_type": "code",
   "execution_count": 15,
   "id": "1563f3c0-de17-4a64-bfca-0c9dd67dc849",
   "metadata": {},
   "outputs": [
    {
     "name": "stdout",
     "output_type": "stream",
     "text": [
      "int32\n"
     ]
    }
   ],
   "source": [
    "import numpy as np\n",
    "z=np.array([1,2,34])\n",
    "print(z.dtype)"
   ]
  },
  {
   "cell_type": "code",
   "execution_count": 17,
   "id": "b77a2433-652f-46d1-b8d2-db20344b70ee",
   "metadata": {},
   "outputs": [
    {
     "name": "stdout",
     "output_type": "stream",
     "text": [
      "float64\n"
     ]
    }
   ],
   "source": [
    "#data type \n",
    "array=np.array([2.2,4.5,6.6])\n",
    "print(array.dtype)"
   ]
  },
  {
   "cell_type": "code",
   "execution_count": 22,
   "id": "1e195080-4af5-4dd6-95ec-c945909729f6",
   "metadata": {},
   "outputs": [
    {
     "name": "stdout",
     "output_type": "stream",
     "text": [
      "complex128\n"
     ]
    }
   ],
   "source": [
    "array=np.array([2+3j, 6+7j])\n",
    "print(array.dtype)"
   ]
  },
  {
   "cell_type": "code",
   "execution_count": 26,
   "id": "72da96f5-fe05-4ebb-b9ec-981b298b0f63",
   "metadata": {},
   "outputs": [
    {
     "name": "stdout",
     "output_type": "stream",
     "text": [
      "<U1\n"
     ]
    }
   ],
   "source": [
    "array=np.array(['a','i','e'])\n",
    "print(array.dtype)"
   ]
  },
  {
   "cell_type": "code",
   "execution_count": null,
   "id": "de32aaa6-c4e3-41c3-bfb7-8c759802400c",
   "metadata": {},
   "outputs": [],
   "source": [
    "#importance of data types in memory mgmt\n",
    "#memory Efficiency\n",
    "#high speed and accuracy"
   ]
  },
  {
   "cell_type": "code",
   "execution_count": null,
   "id": "8b9f9d3f-84c2-41ee-8d6d-584cb6823fe9",
   "metadata": {},
   "outputs": [],
   "source": [
    "#QUES.5 Define ndarrays in NumPy and explain their key features. How do they differ from standard Python lists?\n",
    "#ANS.  In numpy ndarray means N-Dimensions which have any number of dimensions that contains same datatype.\n",
    "        #KEY FEATURES:\n",
    "        #N-Dimensional\n",
    "        #Homogeneous\n",
    "        #Efficient Memory Management\n",
    "        #Vectorized Operations\n",
    "        #Broadcasting\n"
   ]
  },
  {
   "cell_type": "code",
   "execution_count": null,
   "id": "01114a15-7931-4b32-a353-2c48afe0f4d0",
   "metadata": {},
   "outputs": [],
   "source": [
    "#QUES6. Analyze the performance benefits of NumPy arrays over Python lists for large-scale numerical operations.\n",
    "#ANS. Memory Efficiency\n",
    "    #spped of numerical operations\n",
    "    #broadcasting\n",
    "    #Optimized Mathematical Functions\n",
    "    #Typed and Homogeneous Data\n",
    "    #provides mathematical operations"
   ]
  },
  {
   "cell_type": "code",
   "execution_count": null,
   "id": "54a06191-a305-4579-9ea1-b1a4e14cb6ac",
   "metadata": {},
   "outputs": [],
   "source": [
    "#QUES .7 Compare vstack() and hstack() functions in NumPy. Provide examples demonstrating their usage and\n",
    "        #output.\n",
    "#ANS. vstack()- allow vertically (row-wise)\n",
    "                #it should have same number of row.\n",
    "                #1D array converted into 2D array.\n",
    "     # hstack()- allow horizontal(column-wise)\n",
    "                #it should have same number of column.\n",
    "                #1D array remains in same.\n",
    "#These functions are used to combine large large into smaller in size by adding row or column."
   ]
  },
  {
   "cell_type": "code",
   "execution_count": null,
   "id": "a2230600-605c-4f66-a8a8-a848b43ec20b",
   "metadata": {},
   "outputs": [],
   "source": [
    "#QUES8.  Explain the differences between fliplr() and flipud() methods in NumPy, including their effects on various\n",
    "        #array dimensions.\n",
    "#ANS.   fliplr()- flips an array horizontally (left- right)\n",
    "                #Reverses the column order, keeps row order in 2D array.\n",
    "                #Not applicable, raises an error in 1D array.\n",
    "       # flipud()- flips vertically (upside, down, top -bottom)\n",
    "                    #Reverses the row order, keeps column order in 2D array.\n",
    "                    #Reverses the order of elements in a 1D array.\n",
    "#these function used in 2D array."
   ]
  },
  {
   "cell_type": "code",
   "execution_count": null,
   "id": "4a34ca35-1658-40a3-9f9f-806da941ee36",
   "metadata": {},
   "outputs": [],
   "source": [
    "#QUES9. Discuss the functionality of the array_split() method in NumPy. How does it handle uneven splits?\n",
    "#ANS.  The array_split() method in numpy used to split an array into multiple sub array. BUt array_split()\n",
    "        #can handle uneven splits which divides the array into unequal sizes."
   ]
  },
  {
   "cell_type": "code",
   "execution_count": null,
   "id": "64467ab8-97ae-4d56-a15d-036fcc1a96d0",
   "metadata": {},
   "outputs": [],
   "source": [
    "#QUES 10. Explain the concepts of vectorization and broadcasting in NumPy. How do they contribute to efficient array\n",
    "        #operations?\n",
    "#ANS.  Vectorization and broadcasting are two core concepts in NumPy that contribute to its high efficiency for numerical operations. \n",
    "        #They enable fast, element-wise operations on arrays without the need for explicit loops, making NumPy highly optimized\n",
    "        #for large-scale computations.\n",
    "#Vectorization- It does not require any loop to execute the function rather than it does in single step.\n",
    "#Broadcasting- It is a mechanism in numpy which allow for operations between arrays and different shapes & size\n",
    "                #without adding any extra memory allocation or loop."
   ]
  },
  {
   "cell_type": "code",
   "execution_count": null,
   "id": "e6047a17-e6c0-4d3b-90f9-386ab9604719",
   "metadata": {},
   "outputs": [],
   "source": [
    "#Pratical Questions"
   ]
  },
  {
   "cell_type": "code",
   "execution_count": null,
   "id": "ee43e51d-9db0-4c16-a97e-6d76c58db966",
   "metadata": {},
   "outputs": [],
   "source": [
    "#1.  Create a 3x3 NumPy array with random integers between 1 and 100. Then, interchange its rows and columns."
   ]
  },
  {
   "cell_type": "code",
   "execution_count": 34,
   "id": "dec07850-0b7c-4f47-97c8-ec13f6440323",
   "metadata": {},
   "outputs": [
    {
     "name": "stdout",
     "output_type": "stream",
     "text": [
      "[[47 85 99]\n",
      " [19 53 20]\n",
      " [65 76  3]]\n"
     ]
    }
   ],
   "source": [
    "import numpy as np\n",
    "array_random = np.random.randint(1, 101, (3, 3))\n",
    "print(array_random)"
   ]
  },
  {
   "cell_type": "code",
   "execution_count": 46,
   "id": "15767452-9c22-4229-8662-1edf3f41fe00",
   "metadata": {},
   "outputs": [
    {
     "name": "stdout",
     "output_type": "stream",
     "text": [
      "[[20 30 40]\n",
      " [55 66 77]\n",
      " [99 98 97]]\n",
      "\n",
      "Transpose array:\n",
      "[[20 55 99]\n",
      " [30 66 98]\n",
      " [40 77 97]]\n"
     ]
    }
   ],
   "source": [
    "#interchanging row & column by transpose \n",
    "import numpy as np\n",
    "array=np.array([[20,30,40],\n",
    "                [55,66,77],\n",
    "                [99,98,97]])\n",
    "transpose_array=np.transpose(array)\n",
    "print(array)\n",
    "print(\"\\nTranspose array:\")\n",
    "print(transpose_array)"
   ]
  },
  {
   "cell_type": "code",
   "execution_count": null,
   "id": "53108aad-35d8-4e8c-a066-658d95554ff3",
   "metadata": {},
   "outputs": [],
   "source": [
    "#2.  Generate a 1D NumPy array with 10 elements. Reshape it into a 2x5 array, then into a 5x2 array."
   ]
  },
  {
   "cell_type": "code",
   "execution_count": 68,
   "id": "56f206c4-78cf-424c-90d7-fe54fda81fcb",
   "metadata": {},
   "outputs": [
    {
     "name": "stdout",
     "output_type": "stream",
     "text": [
      "[ 1  2  3  4  5  6  7  8  9 10]\n",
      "[[ 1  2  3  4  5]\n",
      " [ 6  7  8  9 10]]\n",
      "\n",
      " array_5x2\n",
      "[[ 1  2]\n",
      " [ 3  4]\n",
      " [ 5  6]\n",
      " [ 7  8]\n",
      " [ 9 10]]\n"
     ]
    }
   ],
   "source": [
    "import numpy as np\n",
    "array_1d=np.arange(1,11)\n",
    "print(array_1d)\n",
    "array_2x5 = array_1d.reshape(2,5)\n",
    "print(array_2x5)\n",
    "array_5x2=array_1d.reshape(5,2)\n",
    "print(\"\\n array_5x2\")\n",
    "print(array_5x2)\n"
   ]
  },
  {
   "cell_type": "code",
   "execution_count": null,
   "id": "438dad1c-cd93-4e9c-8a44-91f37bf67ccb",
   "metadata": {},
   "outputs": [],
   "source": [
    "#3.  Create a 4x4 NumPy array with random float values. Add a border of zeros around it, resulting in a 6x6 array."
   ]
  },
  {
   "cell_type": "code",
   "execution_count": 74,
   "id": "daa22ce0-227f-49d3-b891-f4d04140c3bc",
   "metadata": {},
   "outputs": [
    {
     "name": "stdout",
     "output_type": "stream",
     "text": [
      "[[0.0704753  0.7927277  0.7528693  0.809985  ]\n",
      " [0.18790335 0.87581719 0.16846741 0.93073534]\n",
      " [0.57516594 0.55144358 0.21183129 0.55467485]\n",
      " [0.19827511 0.06907435 0.5569846  0.23636426]]\n",
      "Original 4x4 Array with Random Floats:\n",
      "[[0.97954373 0.39275364 0.71843943 0.28913426]\n",
      " [0.80681038 0.93547929 0.67092143 0.63291794]\n",
      " [0.82065204 0.95332937 0.72328797 0.73513158]\n",
      " [0.69730771 0.87939288 0.6984049  0.22793709]]\n",
      "\n",
      "6x6 Array with Border of Zeros:\n",
      "[[0.         0.         0.         0.         0.         0.        ]\n",
      " [0.         0.97954373 0.39275364 0.71843943 0.28913426 0.        ]\n",
      " [0.         0.80681038 0.93547929 0.67092143 0.63291794 0.        ]\n",
      " [0.         0.82065204 0.95332937 0.72328797 0.73513158 0.        ]\n",
      " [0.         0.69730771 0.87939288 0.6984049  0.22793709 0.        ]\n",
      " [0.         0.         0.         0.         0.         0.        ]]\n"
     ]
    }
   ],
   "source": [
    "import numpy as np\n",
    "array_ran=np.random.rand( 4,4)\n",
    "print(array_ran)\n",
    "# Add a border of zeros to make it a 6x6 array\n",
    "array_6x6 = np.pad(array_4x4, pad_width=1, mode='constant', constant_values=0)\n",
    "\n",
    "print(\"Original 4x4 Array with Random Floats:\")\n",
    "print(array_4x4)\n",
    "\n",
    "print(\"\\n6x6 Array with Border of Zeros:\")\n",
    "print(array_6x6)"
   ]
  },
  {
   "cell_type": "code",
   "execution_count": null,
   "id": "b86546ed-252f-4fbf-bc8b-32e67444e5a2",
   "metadata": {},
   "outputs": [],
   "source": [
    "#4.  Using NumPy, create an array of integers from 10 to 60 with a step of 5."
   ]
  },
  {
   "cell_type": "code",
   "execution_count": 84,
   "id": "31eb40ee-69ed-4566-b309-fc3b63b224fb",
   "metadata": {},
   "outputs": [
    {
     "name": "stdout",
     "output_type": "stream",
     "text": [
      "[10 15 20 25 30 35 40 45 50 55 60]\n"
     ]
    }
   ],
   "source": [
    "import numpy as np\n",
    "array = np.arange(10 , 65, 5)\n",
    "print(array)"
   ]
  },
  {
   "cell_type": "code",
   "execution_count": null,
   "id": "94cb30c5-301d-4282-9bbc-d3f7885d46ac",
   "metadata": {},
   "outputs": [],
   "source": [
    "#5. . Create a NumPy array of strings ['python', 'numpy', 'pandas']. Apply different case transformations\n",
    "        #(uppercase, lowercase, title case, etc.) to each element."
   ]
  },
  {
   "cell_type": "code",
   "execution_count": 87,
   "id": "12504458-ad05-4bba-88f9-fd4626ae91e7",
   "metadata": {},
   "outputs": [
    {
     "name": "stdout",
     "output_type": "stream",
     "text": [
      "['python' 'numpy' 'pandas']\n",
      "['PYTHON' 'NUMPY' 'PANDAS']\n",
      "['python' 'numpy' 'pandas']\n",
      "['Python' 'Numpy' 'Pandas']\n"
     ]
    }
   ],
   "source": [
    "import numpy as np\n",
    "array=np.array(['python', 'numpy', 'pandas'])\n",
    "uppercase=np.char.upper(array)\n",
    "lowercase=np.char.lower(array)\n",
    "titlecase=np.char.title(array)\n",
    "print(array)\n",
    "print(uppercase)\n",
    "print(lowercase)\n",
    "print(titlecase)"
   ]
  },
  {
   "cell_type": "code",
   "execution_count": null,
   "id": "fbf2c1e5-eb98-4dac-972a-8541cca220e0",
   "metadata": {},
   "outputs": [],
   "source": [
    "#6.Generate a NumPy array of words. Insert a space between each character of every word in the array."
   ]
  },
  {
   "cell_type": "code",
   "execution_count": 91,
   "id": "3820be45-8aa4-4ff4-b438-6e6cac34b572",
   "metadata": {},
   "outputs": [
    {
     "name": "stdout",
     "output_type": "stream",
     "text": [
      "['vini' 'aditya' 'bruzi']\n",
      "['v   i   n   i' 'a   d   i   t   y   a' 'b   r   u   z   i']\n"
     ]
    }
   ],
   "source": [
    "import numpy as np\n",
    "x=np.array(['vini', 'aditya', 'bruzi'])\n",
    "l=np.char.join('   ', x)\n",
    "print(x)\n",
    "print(l)"
   ]
  },
  {
   "cell_type": "code",
   "execution_count": null,
   "id": "bd6874fe-7aa4-4a16-b8b5-0454aaa4424f",
   "metadata": {},
   "outputs": [],
   "source": [
    "#7. Create two 2D NumPy arrays and perform element-wise addition, subtraction, multiplication, and division."
   ]
  },
  {
   "cell_type": "code",
   "execution_count": 99,
   "id": "8470bd38-3a66-409c-a960-0b863ad70594",
   "metadata": {},
   "outputs": [
    {
     "name": "stdout",
     "output_type": "stream",
     "text": [
      "[[12 13 76]\n",
      " [32 56 54]]\n",
      "[[87 90 65]\n",
      " [32 87 99]]\n",
      "\n",
      " addition\n",
      "[[ 99 103 141]\n",
      " [ 64 143 153]]\n",
      "\n",
      " subtraction\n",
      "[[-75 -77  11]\n",
      " [  0 -31 -45]]\n",
      "\n",
      " division\n",
      "[[0.13793103 0.14444444 1.16923077]\n",
      " [1.         0.64367816 0.54545455]]\n"
     ]
    }
   ],
   "source": [
    "import numpy as np\n",
    "array1= np.array([[12,13,76],\n",
    "                  [32,56,54]])\n",
    "array2=np.array([[87,90,65],\n",
    "                [32,87,99]])\n",
    "addition=np.add(array1, array2)\n",
    "subtraction=np.subtract(array1, array2)\n",
    "multiplication=np.multiply(array1, array2)\n",
    "division=np.divide(array1, array2)\n",
    "print(array1)\n",
    "print(array2)\n",
    "print('\\n addition')\n",
    "print(addition)\n",
    "print(\"\\n subtraction\")\n",
    "print(subtraction)\n",
    "print(\"\\n division\")\n",
    "print(division)"
   ]
  },
  {
   "cell_type": "code",
   "execution_count": null,
   "id": "086e4270-520f-44b5-b1bd-4201ba0065b9",
   "metadata": {},
   "outputs": [],
   "source": [
    "#8.  Use NumPy to create a 5x5 identity matrix, then extract its diagonal elements."
   ]
  },
  {
   "cell_type": "code",
   "execution_count": 100,
   "id": "0746ed9f-f73d-4995-ac7e-d264426236ea",
   "metadata": {},
   "outputs": [
    {
     "name": "stdout",
     "output_type": "stream",
     "text": [
      "[[1. 0. 0. 0. 0.]\n",
      " [0. 1. 0. 0. 0.]\n",
      " [0. 0. 1. 0. 0.]\n",
      " [0. 0. 0. 1. 0.]\n",
      " [0. 0. 0. 0. 1.]]\n",
      "[1. 1. 1. 1. 1.]\n"
     ]
    }
   ],
   "source": [
    "import numpy as np\n",
    "identity =np.eye(5)\n",
    "diagonal=np.diag(identity)\n",
    "\n",
    "print(identity)\n",
    "print(diagonal)"
   ]
  },
  {
   "cell_type": "code",
   "execution_count": null,
   "id": "1ef410da-3ef1-4e98-989b-6673659dc1ce",
   "metadata": {},
   "outputs": [],
   "source": [
    "#9.Generate a NumPy array of 100 random integers between 0 and 1000. Find and display all prime numbers in\n",
    "    #this array."
   ]
  },
  {
   "cell_type": "code",
   "execution_count": 102,
   "id": "671ac852-749d-45d2-be1a-d7170396fbfc",
   "metadata": {},
   "outputs": [
    {
     "name": "stdout",
     "output_type": "stream",
     "text": [
      "Random Array of Integers:\n",
      "[220 676 478 251 543 208 531 967 299 173 948 644 823 794 700 480  67 212\n",
      "  20 345 901 448 626 504 792 522 754 147 406  21 336 820 762 542 120 861\n",
      " 667 858 337 546 146 877 518 379 929 368 721 430  35 427  57 938  66 266\n",
      " 462 317 479 102  65 321 497 264 638  11 272 982 401 811 520 492 739 372\n",
      " 359 281 597 102 912 771 505 116  94 998 724 556 375 366 495 592 256 717\n",
      "  24 679 176 750 590  11 957 965  91 230]\n",
      "\n",
      "Prime Numbers in the Array:\n",
      "[251, 967, 173, 823, 67, 337, 877, 379, 929, 317, 479, 11, 401, 811, 739, 359, 281, 11]\n"
     ]
    }
   ],
   "source": [
    "import numpy as np\n",
    "def is_prime(n):\n",
    "    if n < 2:\n",
    "        return False\n",
    "    for i in range(2, int(np.sqrt(n)) + 1):\n",
    "        if n % i == 0:\n",
    "            return False\n",
    "    return True\n",
    "\n",
    "# Generate a NumPy array of 100 random integers between 0 and 1000\n",
    "random_integers = np.random.randint(0, 1001, 100)\n",
    "\n",
    "# Find all prime numbers in the array\n",
    "prime_numbers = [num for num in random_integers if is_prime(num)]\n",
    "\n",
    "print(\"Random Array of Integers:\")\n",
    "print(random_integers)\n",
    "\n",
    "print(\"\\nPrime Numbers in the Array:\")\n",
    "print(prime_numbers)"
   ]
  },
  {
   "cell_type": "code",
   "execution_count": null,
   "id": "59f606e7-5b17-4718-9366-fdfbacd6aec2",
   "metadata": {},
   "outputs": [],
   "source": [
    "#10.Create a NumPy array representing daily temperatures for a month. Calculate and display the weekly\n",
    "    #averages."
   ]
  },
  {
   "cell_type": "code",
   "execution_count": 103,
   "id": "42f3c167-0a5c-4379-be8b-6dfd1a989d26",
   "metadata": {},
   "outputs": [
    {
     "name": "stdout",
     "output_type": "stream",
     "text": [
      "Daily Temperatures for the Month:\n",
      "[31 21 29 28 24 27 23 22 27 20 29 17 34 31 26 27 19 27 23 17 35 18 26 33\n",
      " 22 32 30 18 28 35]\n",
      "\n",
      "Weekly Averages:\n",
      "[26.14285714 25.71428571 24.85714286 25.57142857]\n",
      "\n",
      "Average for the last 2 days:\n",
      "31.5\n"
     ]
    }
   ],
   "source": [
    "import numpy as np\n",
    "daily_temperatures = np.random.randint(15, 36, 30)\n",
    "weeks_temperatures = daily_temperatures[:28].reshape(4, 7)\n",
    "extra_days = daily_temperatures[28:]\n",
    "\n",
    "weekly_averages = np.mean(weeks_temperatures, axis=1)\n",
    "extra_days_average = np.mean(extra_days)\n",
    "\n",
    "print(\"Daily Temperatures for the Month:\")\n",
    "print(daily_temperatures)\n",
    "\n",
    "print(\"\\nWeekly Averages:\")\n",
    "print(weekly_averages)\n",
    "\n",
    "print(\"\\nAverage for the last 2 days:\")\n",
    "print(extra_days_average)\n"
   ]
  },
  {
   "cell_type": "code",
   "execution_count": null,
   "id": "554924a3-fcfe-492f-87fa-04fe746dfed1",
   "metadata": {},
   "outputs": [],
   "source": []
  }
 ],
 "metadata": {
  "kernelspec": {
   "display_name": "Python 3 (ipykernel)",
   "language": "python",
   "name": "python3"
  },
  "language_info": {
   "codemirror_mode": {
    "name": "ipython",
    "version": 3
   },
   "file_extension": ".py",
   "mimetype": "text/x-python",
   "name": "python",
   "nbconvert_exporter": "python",
   "pygments_lexer": "ipython3",
   "version": "3.12.4"
  }
 },
 "nbformat": 4,
 "nbformat_minor": 5
}
